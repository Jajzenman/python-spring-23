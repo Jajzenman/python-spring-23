{
 "cells": [
  {
   "cell_type": "markdown",
   "metadata": {},
   "source": [
    "# homework 4: text analysis"
   ]
  },
  {
   "cell_type": "markdown",
   "metadata": {},
   "source": [
    "## instructions\n",
    "For this text analysis assignment, you will choose between the following possibilities\n",
    "1. Text analysis of **gender** from texts of your choosing or the ones provided by me.\n",
    "2. Text analysis of **monsters** from texts of your choosing or the ones provided by me.\n",
    "3. Text analysis of a topic of your choosing. \n",
    "\n",
    "If you choose **genders**, do the following:\n",
    "- Choose one text by a man and one text by a woman.\n",
    "- Load and clean the text using the functions defined in the `nltk: text analysis` class notes.\n",
    "- Do some text analysis using at least four NLTK methods like:\n",
    "    - `similar()`, `concordance()`, `distribution_plot([])`, `collocations()`, and `common_contexts([])`\n",
    "    - check word counts with `text.vocab().most_common(20)` \n",
    "- Write a paragraph (5 - 7 sentences) about your results, and answer the following questions:\n",
    "   - What did you discover about the way gender is portrayed across the two texts? \n",
    "   - Based on your exploration so far, what kind of further questions could you ask about the topic or data?\n",
    "\n",
    "If you choose **monsters**, do the following:\n",
    "- Select two texts, *Dracula* and *Frankenstein*.\n",
    "- Load and clean the text using the functions defined in the `nltk: text analysis` class notes.\n",
    "- Do some text analysis using at least four NLTK methods like:\n",
    "    - `similar()`, `concordance()`, `distribution_plot([])`, `collocations()`, and `common_contexts([])`\n",
    "    - check word counts with `text.vocab().most_common(20)` \n",
    "- Write a paragraph (5 - 7 sentences) about your results, and answer the following questions:\n",
    "   - What did you discover about the way monsters are portrayed across the two texts? \n",
    "   - Based on your exploration so far, what kind of further questions could you ask about the topic or data?\n",
    "   \n",
    "If you choose to do your own topic, follow the above process for cleaning and analysis. Then, write a paragraph (5 - 7 sentences) about your results, and answer the following questions:\n",
    "   - What did you discover about the way monsters are portrayed across the two texts? \n",
    "   - Based on your exploration so far, what kind of further questions could you ask about the topic or data?"
   ]
  },
  {
   "cell_type": "code",
   "execution_count": 1,
   "metadata": {},
   "outputs": [
    {
     "ename": "SyntaxError",
     "evalue": "unmatched ')' (3654918432.py, line 13)",
     "output_type": "error",
     "traceback": [
      "\u001b[0;36m  Cell \u001b[0;32mIn[1], line 13\u001b[0;36m\u001b[0m\n\u001b[0;31m    )\u001b[0m\n\u001b[0m    ^\u001b[0m\n\u001b[0;31mSyntaxError\u001b[0m\u001b[0;31m:\u001b[0m unmatched ')'\n"
     ]
    }
   ],
   "source": [
    "# first, below this cell, select and clean your texts\n",
    "# Dracula\n",
    "# https://www.gutenberg.org/files/345/345-h/345-h.htm\n",
    "\n",
    "DraculaURL = https://www.gutenberg.org/files/345/345-h/345-h.htm\n",
    "\n",
    "# Frankenstein\n",
    "# https://www.gutenberg.org/files/6542/6542-index.htm\n",
    "\n",
    "FrankURL = https://www.gutenberg.org/files/6542/6542-index.htm\n",
    "\n",
    "clean(DraculaURL)\n",
    ")"
   ]
  },
  {
   "cell_type": "code",
   "execution_count": null,
   "metadata": {},
   "outputs": [],
   "source": [
    "def clean(url):\n",
    "    stops = stopwords.words('english')\n",
    "    wordnet_lemmatizer = WordNetLemmatizer()\n",
    "    \n",
    "    open_url = urlopen(url)\n",
    "    read_text = open_url.read()\n",
    "    decoded_text = read_text.decode()\n",
    "    tokens = nltk.word_tokenize(decoded_text)\n",
    "    \n",
    "    text = [] \n",
    "    for word in tokens:\n",
    "        if word.isalpha(): \n",
    "            if word not in stops:\n",
    "                lemma = wordnet_lemmatizer.lemmatize(word)\n",
    "                text.append(word.lower())     \n",
    "    \n",
    "    return text"
   ]
  },
  {
   "cell_type": "code",
   "execution_count": null,
   "metadata": {},
   "outputs": [],
   "source": [
    "# second, below this cell, do some text analysis with NLTK across both texts"
   ]
  },
  {
   "cell_type": "code",
   "execution_count": null,
   "metadata": {},
   "outputs": [],
   "source": [
    "# third, below this cell, write a paragraph about your results"
   ]
  }
 ],
 "metadata": {
  "kernelspec": {
   "display_name": "Python 3",
   "language": "python",
   "name": "python3"
  },
  "language_info": {
   "codemirror_mode": {
    "name": "ipython",
    "version": 3
   },
   "file_extension": ".py",
   "mimetype": "text/x-python",
   "name": "python",
   "nbconvert_exporter": "python",
   "pygments_lexer": "ipython3",
   "version": "3.11.2"
  }
 },
 "nbformat": 4,
 "nbformat_minor": 2
}
